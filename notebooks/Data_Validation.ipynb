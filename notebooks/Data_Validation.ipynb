{
  "nbformat": 4,
  "nbformat_minor": 0,
  "metadata": {
    "colab": {
      "provenance": []
    },
    "kernelspec": {
      "name": "python3",
      "display_name": "Python 3"
    },
    "language_info": {
      "name": "python"
    }
  },
  "cells": [
    {
      "cell_type": "markdown",
      "source": [
        "# 2. Data validation"
      ],
      "metadata": {
        "id": "AGiubyAc3OAX"
      }
    },
    {
      "cell_type": "code",
      "source": [
        "pip install pandera"
      ],
      "metadata": {
        "colab": {
          "base_uri": "https://localhost:8080/"
        },
        "id": "Vb5_HfQEitBX",
        "outputId": "b6129be8-5c8d-4919-b51d-3b383a674903"
      },
      "execution_count": null,
      "outputs": [
        {
          "output_type": "stream",
          "name": "stdout",
          "text": [
            "Requirement already satisfied: pandera in /usr/local/lib/python3.11/dist-packages (0.24.0)\n",
            "Requirement already satisfied: packaging>=20.0 in /usr/local/lib/python3.11/dist-packages (from pandera) (24.2)\n",
            "Requirement already satisfied: pydantic in /usr/local/lib/python3.11/dist-packages (from pandera) (2.11.7)\n",
            "Requirement already satisfied: typeguard in /usr/local/lib/python3.11/dist-packages (from pandera) (4.4.4)\n",
            "Requirement already satisfied: typing_extensions in /usr/local/lib/python3.11/dist-packages (from pandera) (4.14.0)\n",
            "Requirement already satisfied: typing_inspect>=0.6.0 in /usr/local/lib/python3.11/dist-packages (from pandera) (0.9.0)\n",
            "Requirement already satisfied: mypy-extensions>=0.3.0 in /usr/local/lib/python3.11/dist-packages (from typing_inspect>=0.6.0->pandera) (1.1.0)\n",
            "Requirement already satisfied: annotated-types>=0.6.0 in /usr/local/lib/python3.11/dist-packages (from pydantic->pandera) (0.7.0)\n",
            "Requirement already satisfied: pydantic-core==2.33.2 in /usr/local/lib/python3.11/dist-packages (from pydantic->pandera) (2.33.2)\n",
            "Requirement already satisfied: typing-inspection>=0.4.0 in /usr/local/lib/python3.11/dist-packages (from pydantic->pandera) (0.4.1)\n"
          ]
        }
      ]
    },
    {
      "cell_type": "code",
      "execution_count": null,
      "metadata": {
        "id": "fsPO2DW72qr7"
      },
      "outputs": [],
      "source": [
        "import pandas as pd\n",
        "import numpy as np\n",
        "import pandera.pandas as pa"
      ]
    },
    {
      "cell_type": "markdown",
      "source": [
        "nhập dữ liệu"
      ],
      "metadata": {
        "id": "7ZBrNnYx460W"
      }
    },
    {
      "cell_type": "code",
      "source": [
        "df =pd.read_csv('https://raw.githubusercontent.com/mmm-pygame/Final-Project-Machine-Learning/refs/heads/main/data/raw/raw_data.csv')"
      ],
      "metadata": {
        "id": "td0loYmjqo-n"
      },
      "execution_count": null,
      "outputs": []
    },
    {
      "cell_type": "code",
      "source": [
        "schema=pa.DataFrameSchema(\n",
        "    {\n",
        "        \"PassengerId\":pa.Column(dtype=pa.Int64,nullable=False,unique=True),\n",
        "        \"Ticket\":pa.Column(dtype=pa.String,checks=[pa.Check.str_contains(pattern=r'^[a-zA-Z0-9\\s/\\.]+$')]),\n",
        "        \"Name\":pa.Column(dtype=pa.String,checks=[pa.Check.str_contains(r'^[a-zA-Z,\\s\\.\\(\\)]+$')],nullable=False),\n",
        "        \"Embarked\":pa.Column(dtype=pa.String,checks=[pa.Check.isin(['S','C','Q'])],nullable=False),\n",
        "        \"Cabin\":pa.Column(dtype=pa.String,checks=[pa.Check.str_contains(r'^[A-Z0-9\\s]+$')],nullable=False),\n",
        "        \"Pclass\":pa.Column(dtype=pa.Int64,checks=[pa.Check.isin([1,2,3])],nullable=False),\n",
        "        \"Sex\":pa.Column(dtype=pa.String,checks=[pa.Check.isin(['male','female'])],nullable=False),\n",
        "        \"Age\":pa.Column(dtype=pa.Int64,checks=[pa.Check.in_range(0,81)],nullable=False),\n",
        "        \"Fare\":pa.Column(dtype=pa.Float64,checks=[pa.Check.ge(0.0)],nullable=False),\n",
        "        \"SibSp\":pa.Column(dtype=pa.Int64,checks=[pa.Check.in_range(0,8)],nullable=False),\n",
        "        \"Parch\":pa.Column(dtype=pa.Int64,checks=[pa.Check.in_range(0,6)],nullable=False),\n",
        "        \"Survived\":pa.Column(dtype=pa.Int64,checks=[pa.Check.isin([0,1])],nullable=False)\n",
        "    })"
      ],
      "metadata": {
        "id": "ZFE12f7bCjp0"
      },
      "execution_count": null,
      "outputs": []
    },
    {
      "cell_type": "code",
      "source": [
        "try:\n",
        "  schema.validate(df,lazy=True)\n",
        "  print('Valid Dataset')\n",
        "except pa.errors.SchemaError as er:\n",
        "  print('Đã xảy ra lỗi: ',er)"
      ],
      "metadata": {
        "colab": {
          "base_uri": "https://localhost:8080/",
          "height": 1000
        },
        "id": "Wmle13TWy1kV",
        "outputId": "66222ab6-1081-40c9-cac4-7789f92faaa6"
      },
      "execution_count": null,
      "outputs": [
        {
          "output_type": "error",
          "ename": "SchemaErrors",
          "evalue": "{\n    \"DATA\": {\n        \"DATAFRAME_CHECK\": [\n            {\n                \"schema\": null,\n                \"column\": \"Name\",\n                \"check\": \"str_contains('^[a-zA-Z,\\\\s\\\\.]+$')\",\n                \"error\": \"Column 'Name' failed element-wise validator number 0: str_contains('^[a-zA-Z,\\\\s\\\\.]+$') failure cases: Cumings, Mrs. John Bradley (Florence Briggs Thayer), Futrelle, Mrs. Jacques Heath (Lily May Peel), Johnson, Mrs. Oscar W (Elisabeth Vilhelmina Berg), Nasser, Mrs. Nicholas (Adele Achem), Hewlett, Mrs. (Mary D Kingcome) , Vander Planke, Mrs. Julius (Emelia Maria Vandemoortele), McGowan, Miss. Anna \\\"Annie\\\", Asplund, Mrs. Carl Oscar (Selma Augusta Emilia Johansson), O'Dwyer, Miss. Ellen \\\"Nellie\\\", Spencer, Mrs. William Augustus (Marie Eugenie), Nicola-Yarred, Miss. Jamila, Ahlin, Mrs. Johan (Johanna Persdotter Larsson), Turpin, Mrs. William John Robert (Dorothy Ann Wonnacott), O'Driscoll, Miss. Bridget, Arnold-Franchi, Mrs. Josef (Josefine Franchi), Harper, Mrs. Henry Sleeper (Myna Haxtun), Faunthorpe, Mrs. Lizzie (Elizabeth Anne Wilkinson), Nye, Mrs. (Elizabeth Ramell), Backstrom, Mrs. Karl Alfred (Maria Mathilda Gustafsson), Doling, Mrs. John T (Ada Julia Bone), Petroff, Mr. Pastcho (\\\"Pentcho\\\"), Nicola-Yarred, Master. Elias, Robins, Mrs. Alexander A (Grace Charity Laury), Weisz, Mrs. Leopold (Mathilde Francoise Pede), Boulos, Mrs. Joseph (Sultana), Hakkarainen, Mrs. Pekka Pietari (Elin Matilda Dolck), Andersson, Mr. August Edvard (\\\"Wennerstrom\\\"), Ford, Miss. Robina Maggie \\\"Ruby\\\", Navratil, Mr. Michel (\\\"Louis M Hoffman\\\"), Pears, Mrs. Thomas (Edith Wearne), Gilnagh, Miss. Katherine \\\"Katie\\\", Watt, Mrs. James (Elizabeth \\\"Bessie\\\" Inglis Milne), Goldsmith, Master. Frank John William \\\"Frankie\\\", Chibnall, Mrs. (Edith Martha Bowerman), Skoog, Mrs. William (Anna Bernhardina Karlsson), Kink-Heilmann, Miss. Luise Gretchen, O'Brien, Mrs. Thomas (Johanna \\\"Hannah\\\" Godfrey), Romaine, Mr. Charles Hallace (\\\"Mr C Rolmane\\\"), Pinsky, Mrs. (Rosa), Andersen-Jensen, Miss. Carla Christine Nielsine, Brown, Mrs. James Joseph (Margaret Tobin), Madigan, Miss. Margaret \\\"Maggie\\\", Yrois, Miss. Henriette (\\\"Mrs Harbeck\\\"), Cohen, Mr. Gurshon \\\"Gus\\\", Carr, Miss. Helen \\\"Ellen\\\", Lovell, Mr. John Hall (\\\"Henry\\\"), Harris, Mrs. Henry Birkhardt (Irene Wallach), Collyer, Miss. Marjorie \\\"Lottie\\\", Murphy, Miss. Katherine \\\"Kate\\\", Hamalainen, Mrs. William (Anna), Strom, Mrs. Wilhelm (Elna Matilda Persson), Rosblom, Mrs. Viktor (Helena Wilhelmina), Touma, Mrs. Darwis (Hanne Youssef Razi), Parrish, Mrs. (Lutie Davis), Graham, Mrs. William Thompson (Edith Junkins), Mellinger, Mrs. (Elizabeth Anne Maidment), Healy, Miss. Hanora \\\"Nora\\\", Parkes, Mr. Francis \\\"Frank\\\", Abbott, Mrs. Stanton (Rosa Hunt), Barber, Miss. Ellen \\\"Nellie\\\", Bishop, Mrs. Dickinson H (Helen Walton), Baxter, Mrs. James (Helene DeLaudeniere Chaput), Kelly, Miss. Anna Katherine \\\"Annie Kate\\\", Williams, Mr. Howard Hugh \\\"Harry\\\", Penasco y Castellana, Mrs. Victor de Satode (Maria Josefa Perez de Soto y Vallejo), Lahtinen, Mrs. William (Anna Sylfven), Kantor, Mrs. Sinai (Miriam Sternin), Spedden, Mrs. Frederic Oakley (Margaretta Corning Stone), Caldwell, Mrs. Albert Francis (Sylvia Mae Harbaugh), Ball, Mrs. (Ada E Hall), Goldsmith, Mrs. Frank John (Emily Alice Brown), Frauenthal, Mrs. Henry William (Clara Heinsheimer), Brown, Miss. Amelia \\\"Mildred\\\", Davison, Mrs. Thomas Henry (Mary E Finck), Coutts, Master. William Loch \\\"William\\\", Williams-Lambert, Mr. Fletcher Fellows, Arnold-Franchi, Mr. Josef, Mockler, Miss. Helen Mary \\\"Ellie\\\", Barbara, Mrs. (Catherine David), O'Brien, Mr. Thomas, Warren, Mrs. Frank Manley (Anna Sophia Atkinson), Moussa, Mrs. (Mantoura Boulos), Meyer, Mrs. Edgar Joseph (Leila Saks), Nakid, Miss. Maria (\\\"Mary\\\"), Holverson, Mrs. Alexander Oskar (Mary Aline Towner), Sandstrom, Mrs. Hjalmar (Agnes Charlotta Bengtsson), Trout, Mrs. William H (Jessie L), Widegren, Mr. Carl/Charles Peter, Meek, Mrs. Thomas (Annie Louise Rowley), Drew, Mrs. James Vivian (Lulu Thorne Christian), Danbom, Mrs. Ernst Gilbert (Anna Sigrid Maria Brogren), Clarke, Mrs. Charles V (Ada Maria Winfield), Phillips, Miss. Kate Florence (\\\"Mrs Kate Louise Phillips Marshall\\\"), Pickard, Mr. Berk (Berk Trembisky), Bjornstrom-Steffansson, Mr. Mauritz Hakan, Thorneycroft, Mrs. Percival (Florence Kate White), Louch, Mrs. Charles Alexander (Alice Adelaide Slow), Ford, Miss. Doolina Margaret \\\"Daisy\\\", Richards, Mrs. Sidney (Emily Hocking), Hart, Mrs. Benjamin (Esther Ada Bloomfield), Johannesen-Bratthammer, Mr. Bernt, Kenyon, Mrs. Frederick R (Marion), O'Connor, Mr. Maurice, West, Mrs. Edwy Arthur (Ada Mary Worth), Jerwan, Mrs. Amin S (Marie Marthe Thuillard), Frost, Mr. Anthony Wood \\\"Archie\\\", Turkula, Mrs. (Hedwig), Hoyt, Mrs. Frederick Maxfield (Jane Anne Forby), Coutts, Master. Eden Leslie \\\"Neville\\\", Allison, Mrs. Hudson J C (Bessie Waldo Daniels), O'Sullivan, Miss. Bridget Mary, Quick, Mrs. Frederick Charles (Jane Richards), Bradley, Mr. George (\\\"George Arthur Brayton\\\"), Rothschild, Mrs. Martin (Elizabeth L. Barrett), Lemore, Mrs. (Amelia Milley), Angle, Mrs. William A (Florence \\\"Mary\\\" Agnes Hughes), Hippach, Mrs. Louis Albert (Ida Sophia Fischer), Peter, Mrs. Catherine (Catherine Rizk), Beane, Mrs. Edward (Ethel Clarke), O'Brien, Mr. Timothy, Leeni, Mr. Fahim (\\\"Philip Zenni\\\"), Duff Gordon, Lady. (Lucille Christiana Sutherland) (\\\"Mrs Morgan\\\"), Taussig, Mrs. Emil (Tillie Mandelbaum), de Messemaeker, Mrs. Guillaume Joseph (Emma), Meanwell, Miss. (Marion Ogden), Palsson, Mrs. Nils (Alma Cornelia Berglund), Appleton, Mrs. Edward Dale (Charlotte Lamson), Flynn, Mr. John Irwin (\\\"Irving\\\"), Silvey, Mrs. William Baird (Alice Munger), Caram, Mrs. Joseph (Maria Elias), Thayer, Mrs. John Borland (Marian Longstreth Morris), Frolicher-Stehli, Mr. Maxmillian, Stephenson, Mrs. Walter Bertram (Martha Eustis), Duff Gordon, Sir. Cosmo Edmund (\\\"Mr Morgan\\\"), Jacobsohn, Mrs. Sidney Samuel (Amy Frances Christy), Homer, Mr. Harry (\\\"Mr E Haven\\\"), Laroche, Mrs. Joseph (Juliette Marie Louise Lafargue), Andersson, Mrs. Anders Johan (Alfrida Konstantia Brogren), Lobb, Mrs. William Arthur (Cordelia K Stanlick), Bowen, Mr. David John \\\"Dai\\\", O'Connell, Mr. Patrick D, Stahelin-Maeglin, Dr. Max, Panula, Mrs. Juha (Maria Emilia Ojala), Simonius-Blumer, Col. Oberst Alfons, O'Leary, Miss. Hanora \\\"Norah\\\", Hegarty, Miss. Hanora \\\"Nora\\\", Bourke, Mrs. John (Catherine), Taylor, Mrs. Elmer Zebley (Juliet Cummins Wright), Brown, Mrs. Thomas William Solomon (Elizabeth Catherine Ford), Goodwin, Mrs. Frederick (Augusta Tyler), Mullens, Miss. Katherine \\\"Katie\\\", Astor, Mrs. John Jacob (Madeleine Talmadge Force), Morley, Mr. Henry Samuel (\\\"Mr Henry Marshall\\\"), Kelly, Mrs. Florence \\\"Fannie\\\", Moubarek, Master. Halim Gonios (\\\"William George\\\"), Mayne, Mlle. Berthe Antonine (\\\"Mrs de Villiers\\\"), Troutt, Miss. Edwina Celia \\\"Winnie\\\", Harper, Miss. Annie Jessie \\\"Nina\\\", Renouf, Mrs. Peter Henry (Lillian Jefferys), Ford, Mrs. Edward (Margaret Ann Watson), Ryerson, Miss. Susan Parker \\\"Suzette\\\", Herman, Mrs. Samuel (Jane Laver), Rothes, the Countess. of (Lucy Noel Martha Dyer-Edwards), Carter, Mrs. William Ernest (Lucile Polk), Hogeboom, Mrs. John C (Anna Andrews), Mack, Mrs. (Mary), Hocking, Mrs. Elizabeth (Eliza Needs), Robert, Mrs. Edward Scott (Elisabeth Walton McMillan), Dick, Mrs. Albert Adrian (Vera Gillespie), Harmer, Mr. Abraham (David Lishin), Keane, Mr. Andrew \\\"Andy\\\", Leader, Dr. Alice (Farnham), Van Impe, Mrs. Jean Baptiste (Rosalie Paula Govaert), Collyer, Mrs. Harvey (Charlotte Annie Tate), Chambers, Mrs. Norman Campbell (Bertha Griggs), Hays, Mrs. Charles Melville (Clara Jennings Gregg), Moor, Mrs. (Beila), Stone, Mrs. George Nelson (Martha Evelyn), Yasbeck, Mrs. Antoni (Selini Alexander), Goldenberg, Mrs. Samuel L (Edwiga Grabowska), Carter, Mrs. Ernest Courtenay (Lilian Hughes), Aks, Mrs. Sam (Leah Rosen), Wick, Mrs. George Dennick (Mary Hitchcock), Baclini, Mrs. Solomon (Latifa Qurban), Swift, Mrs. Frederick Joel (Margaret Welles Barron), Sage, Miss. Dorothy Edith \\\"Dolly\\\", Bystrom, Mrs. (Karolina), Beckwith, Mrs. Richard Leonard (Sallie Monypeny), Abelson, Mrs. Samuel (Hannah Wizosky), Najib, Miss. Adele Kiamie \\\"Jane\\\", Potter, Mrs. Thomas Jr (Lily Alexenia Wilson), Shelley, Mrs. William (Imanita Parrish Hall), Rice, Mrs. William (Margaret Norton), Johnston, Miss. Catherine Helen \\\"Carrie\\\"\"\n            }\n        ]\n    },\n    \"SCHEMA\": {\n        \"SERIES_CONTAINS_NULLS\": [\n            {\n                \"schema\": null,\n                \"column\": \"Embarked\",\n                \"check\": \"not_nullable\",\n                \"error\": \"non-nullable series 'Embarked' contains null values:61     NaN829    NaNName: Embarked, dtype: object\"\n            },\n            {\n                \"schema\": null,\n                \"column\": \"Cabin\",\n                \"check\": \"not_nullable\",\n                \"error\": \"non-nullable series 'Cabin' contains null values:0      NaN2      NaN4      NaN5      NaN7      NaN      ... 884    NaN885    NaN886    NaN888    NaN890    NaNName: Cabin, Length: 687, dtype: object\"\n            },\n            {\n                \"schema\": null,\n                \"column\": \"Age\",\n                \"check\": \"not_nullable\",\n                \"error\": \"non-nullable series 'Age' contains null values:5     NaN17    NaN19    NaN26    NaN28    NaN       ..859   NaN863   NaN868   NaN878   NaN888   NaNName: Age, Length: 177, dtype: float64\"\n            }\n        ],\n        \"WRONG_DATATYPE\": [\n            {\n                \"schema\": null,\n                \"column\": \"Age\",\n                \"check\": \"dtype('int64')\",\n                \"error\": \"expected series 'Age' to have type int64, got float64\"\n            }\n        ]\n    }\n}",
          "traceback": [
            "\u001b[0;31m---------------------------------------------------------------------------\u001b[0m",
            "\u001b[0;31mSchemaErrors\u001b[0m                              Traceback (most recent call last)",
            "\u001b[0;32m/tmp/ipython-input-17-164563925.py\u001b[0m in \u001b[0;36m<cell line: 0>\u001b[0;34m()\u001b[0m\n\u001b[1;32m      1\u001b[0m \u001b[0;32mtry\u001b[0m\u001b[0;34m:\u001b[0m\u001b[0;34m\u001b[0m\u001b[0;34m\u001b[0m\u001b[0m\n\u001b[0;32m----> 2\u001b[0;31m   \u001b[0mschema\u001b[0m\u001b[0;34m.\u001b[0m\u001b[0mvalidate\u001b[0m\u001b[0;34m(\u001b[0m\u001b[0mdf\u001b[0m\u001b[0;34m,\u001b[0m\u001b[0mlazy\u001b[0m\u001b[0;34m=\u001b[0m\u001b[0;32mTrue\u001b[0m\u001b[0;34m)\u001b[0m\u001b[0;34m\u001b[0m\u001b[0;34m\u001b[0m\u001b[0m\n\u001b[0m\u001b[1;32m      3\u001b[0m   \u001b[0mprint\u001b[0m\u001b[0;34m(\u001b[0m\u001b[0;34m'Valid Dataset'\u001b[0m\u001b[0;34m)\u001b[0m\u001b[0;34m\u001b[0m\u001b[0;34m\u001b[0m\u001b[0m\n\u001b[1;32m      4\u001b[0m \u001b[0;32mexcept\u001b[0m \u001b[0mpa\u001b[0m\u001b[0;34m.\u001b[0m\u001b[0merrors\u001b[0m\u001b[0;34m.\u001b[0m\u001b[0mSchemaError\u001b[0m \u001b[0;32mas\u001b[0m \u001b[0mer\u001b[0m\u001b[0;34m:\u001b[0m\u001b[0;34m\u001b[0m\u001b[0;34m\u001b[0m\u001b[0m\n\u001b[1;32m      5\u001b[0m   \u001b[0mprint\u001b[0m\u001b[0;34m(\u001b[0m\u001b[0;34m'Đã xảy ra lỗi: '\u001b[0m\u001b[0;34m,\u001b[0m\u001b[0mer\u001b[0m\u001b[0;34m)\u001b[0m\u001b[0;34m\u001b[0m\u001b[0;34m\u001b[0m\u001b[0m\n",
            "\u001b[0;32m/usr/local/lib/python3.11/dist-packages/pandera/api/pandas/container.py\u001b[0m in \u001b[0;36mvalidate\u001b[0;34m(self, check_obj, head, tail, sample, random_state, lazy, inplace)\u001b[0m\n\u001b[1;32m    124\u001b[0m             \u001b[0;32mreturn\u001b[0m \u001b[0mcheck_obj\u001b[0m\u001b[0;34m.\u001b[0m\u001b[0mpandera\u001b[0m\u001b[0;34m.\u001b[0m\u001b[0madd_schema\u001b[0m\u001b[0;34m(\u001b[0m\u001b[0mself\u001b[0m\u001b[0;34m)\u001b[0m\u001b[0;34m\u001b[0m\u001b[0;34m\u001b[0m\u001b[0m\n\u001b[1;32m    125\u001b[0m \u001b[0;34m\u001b[0m\u001b[0m\n\u001b[0;32m--> 126\u001b[0;31m         return self._validate(\n\u001b[0m\u001b[1;32m    127\u001b[0m             \u001b[0mcheck_obj\u001b[0m\u001b[0;34m=\u001b[0m\u001b[0mcheck_obj\u001b[0m\u001b[0;34m,\u001b[0m\u001b[0;34m\u001b[0m\u001b[0;34m\u001b[0m\u001b[0m\n\u001b[1;32m    128\u001b[0m             \u001b[0mhead\u001b[0m\u001b[0;34m=\u001b[0m\u001b[0mhead\u001b[0m\u001b[0;34m,\u001b[0m\u001b[0;34m\u001b[0m\u001b[0;34m\u001b[0m\u001b[0m\n",
            "\u001b[0;32m/usr/local/lib/python3.11/dist-packages/pandera/api/pandas/container.py\u001b[0m in \u001b[0;36m_validate\u001b[0;34m(self, check_obj, head, tail, sample, random_state, lazy, inplace)\u001b[0m\n\u001b[1;32m    145\u001b[0m     ) -> pd.DataFrame:\n\u001b[1;32m    146\u001b[0m \u001b[0;34m\u001b[0m\u001b[0m\n\u001b[0;32m--> 147\u001b[0;31m         return self.get_backend(check_obj).validate(\n\u001b[0m\u001b[1;32m    148\u001b[0m             \u001b[0mcheck_obj\u001b[0m\u001b[0;34m,\u001b[0m\u001b[0;34m\u001b[0m\u001b[0;34m\u001b[0m\u001b[0m\n\u001b[1;32m    149\u001b[0m             \u001b[0mschema\u001b[0m\u001b[0;34m=\u001b[0m\u001b[0mself\u001b[0m\u001b[0;34m,\u001b[0m\u001b[0;34m\u001b[0m\u001b[0;34m\u001b[0m\u001b[0m\n",
            "\u001b[0;32m/usr/local/lib/python3.11/dist-packages/pandera/backends/pandas/container.py\u001b[0m in \u001b[0;36mvalidate\u001b[0;34m(self, check_obj, schema, head, tail, sample, random_state, lazy, inplace)\u001b[0m\n\u001b[1;32m    130\u001b[0m                 \u001b[0mcheck_obj\u001b[0m \u001b[0;34m=\u001b[0m \u001b[0mself\u001b[0m\u001b[0;34m.\u001b[0m\u001b[0mdrop_invalid_rows\u001b[0m\u001b[0;34m(\u001b[0m\u001b[0mcheck_obj\u001b[0m\u001b[0;34m,\u001b[0m \u001b[0merror_handler\u001b[0m\u001b[0;34m)\u001b[0m\u001b[0;34m\u001b[0m\u001b[0;34m\u001b[0m\u001b[0m\n\u001b[1;32m    131\u001b[0m             \u001b[0;32melse\u001b[0m\u001b[0;34m:\u001b[0m\u001b[0;34m\u001b[0m\u001b[0;34m\u001b[0m\u001b[0m\n\u001b[0;32m--> 132\u001b[0;31m                 raise SchemaErrors(\n\u001b[0m\u001b[1;32m    133\u001b[0m                     \u001b[0mschema\u001b[0m\u001b[0;34m=\u001b[0m\u001b[0mschema\u001b[0m\u001b[0;34m,\u001b[0m\u001b[0;34m\u001b[0m\u001b[0;34m\u001b[0m\u001b[0m\n\u001b[1;32m    134\u001b[0m                     \u001b[0mschema_errors\u001b[0m\u001b[0;34m=\u001b[0m\u001b[0merror_handler\u001b[0m\u001b[0;34m.\u001b[0m\u001b[0mschema_errors\u001b[0m\u001b[0;34m,\u001b[0m\u001b[0;34m\u001b[0m\u001b[0;34m\u001b[0m\u001b[0m\n",
            "\u001b[0;31mSchemaErrors\u001b[0m: {\n    \"DATA\": {\n        \"DATAFRAME_CHECK\": [\n            {\n                \"schema\": null,\n                \"column\": \"Name\",\n                \"check\": \"str_contains('^[a-zA-Z,\\\\s\\\\.]+$')\",\n                \"error\": \"Column 'Name' failed element-wise validator number 0: str_contains('^[a-zA-Z,\\\\s\\\\.]+$') failure cases: Cumings, Mrs. John Bradley (Florence Briggs Thayer), Futrelle, Mrs. Jacques Heath (Lily May Peel), Johnson, Mrs. Oscar W (Elisabeth Vilhelmina Berg), Nasser, Mrs. Nicholas (Adele Achem), Hewlett, Mrs. (Mary D Kingcome) , Vander Planke, Mrs. Julius (Emelia Maria Vandemoortele), McGowan, Miss. Anna \\\"Annie\\\", Asplund, Mrs. Carl Oscar (Selma Augusta Emilia Johansson), O'Dwyer, Miss. Ellen \\\"Nellie\\\", Spencer, Mrs. William Augustus (Marie Eugenie), Nicola-Yarred, Miss. Jamila, Ahlin, Mrs. Johan (Johanna Persdotter Larsson), Turpin, Mrs. William John Robert (Dorothy Ann Wonnacott), O'Driscoll, Miss. Bridget, Arnold-Franchi, Mrs. Josef (Josefine Franchi), Harper, Mrs. Henry Sleeper (Myna Haxtun), Faunthorpe, Mrs. Lizzie (Elizabeth Anne Wilkinson), Nye, Mrs. (Elizabeth Ramell), Backstrom, Mrs. Karl Alfred (Maria Mathilda Gustafsson), Doling, Mrs. John T (Ada Julia Bone), Petroff, Mr. Pastcho (\\\"Pentcho\\\"), Nicola-Yarred, Master. Elias, Robins, Mrs. Alexander A (Grace Charity Laury), Weisz, Mrs. Leopold (Mathilde Francoise Pede), Boulos, Mrs. Joseph (Sultana), Hakkarainen, Mrs. Pekka Pietari (Elin Matilda Dolck), Andersson, Mr. August Edvard (\\\"Wennerstrom\\\"), Ford, Miss. Robina Maggie \\\"Ruby\\\", Navratil, Mr. Michel (\\\"Louis M Hoffman\\\"), Pears, Mrs. Thomas (Edith Wearne), Gilnagh, Miss. Katherine \\\"Katie\\\", Watt, Mrs. James (Elizabeth \\\"Bessie\\\" Inglis...\n            }\n        ]\n    },\n    \"SCHEMA\": {\n        \"SERIES_CONTAINS_NULLS\": [\n            {\n                \"schema\": null,\n                \"column\": \"Embarked\",\n                \"check\": \"not_nullable\",\n                \"error\": \"non-nullable series 'Embarked' contains null values:61     NaN829    NaNName: Embarked, dtype: object\"\n            },\n            {\n                \"schema\": null,\n                \"column\": \"Cabin\",\n                \"check\": \"not_nullable\",\n                \"error\": \"non-nullable series 'Cabin' contains null values:0      NaN2      NaN4      NaN5      NaN7      NaN      ... 884    NaN885    NaN886    NaN888    NaN890    NaNName: Cabin, Length: 687, dtype: object\"\n            },\n            {\n                \"schema\": null,\n                \"column\": \"Age\",\n                \"check\": \"not_nullable\",\n                \"error\": \"non-nullable series 'Age' contains null values:5     NaN17    NaN19    NaN26    NaN28    NaN       ..859   NaN863   NaN868   NaN878   NaN888   NaNName: Age, Length: 177, dtype: float64\"\n            }\n        ],\n        \"WRONG_DATATYPE\": [\n            {\n                \"schema\": null,\n                \"column\": \"Age\",\n                \"check\": \"dtype('int64')\",\n                \"error\": \"expected series 'Age' to have type int64, got float64\"\n            }\n        ]\n    }\n}"
          ]
        }
      ]
    },
    {
      "cell_type": "markdown",
      "source": [
        "**Nhận xét:** Có giá trị NaN ở các cột Name,Embarked,Cabin,Age. Ngoài ra, Age còn chứa hai kiểu dữ liệu là Float và Int so với đánh giá chủ quan ban đầu là chỉ kiểu Int.\n",
        "\n",
        "**Kết luận:** Chỉ cần điều chỉnh cột Age vì theo bước EDA sẽ loại bỏ các feature Name, Embarked, Cabin do không quan trọng. Còn cột Age có sức ảnh hưởng tới Survived cần fill vào missing values và chuẩn hóa sang Float để cụ thể hóa khoảng tuổi chính xác=> dễ tính toán hơn."
      ],
      "metadata": {
        "id": "yGo8S4NK1ojt"
      }
    }
  ]
}