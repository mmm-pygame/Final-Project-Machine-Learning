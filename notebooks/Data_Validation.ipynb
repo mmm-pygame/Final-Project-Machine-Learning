{
  "nbformat": 4,
  "nbformat_minor": 0,
  "metadata": {
    "colab": {
      "provenance": []
    },
    "kernelspec": {
      "name": "python3",
      "display_name": "Python 3"
    },
    "language_info": {
      "name": "python"
    }
  },
  "cells": [
    {
      "cell_type": "markdown",
      "source": [
        "# 2. Data validation"
      ],
      "metadata": {
        "id": "AGiubyAc3OAX"
      }
    },
    {
      "cell_type": "code",
      "source": [
        "pip install pandera"
      ],
      "metadata": {
        "colab": {
          "base_uri": "https://localhost:8080/"
        },
        "id": "Vb5_HfQEitBX",
        "outputId": "ccedd8fd-14f1-43e5-be8b-24026d6835cf"
      },
      "execution_count": null,
      "outputs": [
        {
          "output_type": "stream",
          "name": "stdout",
          "text": [
            "Requirement already satisfied: pandera in /usr/local/lib/python3.11/dist-packages (0.24.0)\n",
            "Requirement already satisfied: packaging>=20.0 in /usr/local/lib/python3.11/dist-packages (from pandera) (24.2)\n",
            "Requirement already satisfied: pydantic in /usr/local/lib/python3.11/dist-packages (from pandera) (2.11.7)\n",
            "Requirement already satisfied: typeguard in /usr/local/lib/python3.11/dist-packages (from pandera) (4.4.4)\n",
            "Requirement already satisfied: typing_extensions in /usr/local/lib/python3.11/dist-packages (from pandera) (4.14.0)\n",
            "Requirement already satisfied: typing_inspect>=0.6.0 in /usr/local/lib/python3.11/dist-packages (from pandera) (0.9.0)\n",
            "Requirement already satisfied: mypy-extensions>=0.3.0 in /usr/local/lib/python3.11/dist-packages (from typing_inspect>=0.6.0->pandera) (1.1.0)\n",
            "Requirement already satisfied: annotated-types>=0.6.0 in /usr/local/lib/python3.11/dist-packages (from pydantic->pandera) (0.7.0)\n",
            "Requirement already satisfied: pydantic-core==2.33.2 in /usr/local/lib/python3.11/dist-packages (from pydantic->pandera) (2.33.2)\n",
            "Requirement already satisfied: typing-inspection>=0.4.0 in /usr/local/lib/python3.11/dist-packages (from pydantic->pandera) (0.4.1)\n"
          ]
        }
      ]
    },
    {
      "cell_type": "code",
      "execution_count": null,
      "metadata": {
        "id": "fsPO2DW72qr7"
      },
      "outputs": [],
      "source": [
        "import pandas as pd\n",
        "import numpy as np\n",
        "import pandera.pandas as pa"
      ]
    },
    {
      "cell_type": "markdown",
      "source": [
        "nhập dữ liệu"
      ],
      "metadata": {
        "id": "7ZBrNnYx460W"
      }
    },
    {
      "cell_type": "code",
      "source": [
        "df =pd.read_csv('https://raw.githubusercontent.com/mmm-pygame/Final-Project-Machine-Learning/refs/heads/main/data/raw/raw_data.csv')"
      ],
      "metadata": {
        "id": "td0loYmjqo-n"
      },
      "execution_count": null,
      "outputs": []
    },
    {
      "cell_type": "code",
      "source": [
        "schema=pa.DataFrameSchema(\n",
        "    {\n",
        "        \"PassengerId\":pa.Column(dtype=pa.Int64,nullable=False,unique=True),\n",
        "        \"Ticket\":pa.Column(dtype=pa.String,checks=[pa.Check.str_contains(pattern=r'^[a-zA-Z0-9\\s/\\.]+$')]),\n",
        "        \"Name\":pa.Column(dtype=pa.String,checks=[pa.Check.str_contains(r'^[a-zA-Z,\\s\\.\\(\\)]+$')],nullable=False),\n",
        "        \"Embarked\":pa.Column(dtype=pa.String,checks=[pa.Check.isin(['S','C','Q'])],nullable=False),\n",
        "        \"Cabin\":pa.Column(dtype=pa.String,checks=[pa.Check.str_contains(r'^[A-Z0-9\\s]+$')],nullable=False),\n",
        "        \"Pclass\":pa.Column(dtype=pa.Int64,checks=[pa.Check.isin([1,2,3])],nullable=False),\n",
        "        \"Sex\":pa.Column(dtype=pa.String,checks=[pa.Check.isin(['male','female'])],nullable=False),\n",
        "        \"Age\":pa.Column(dtype=pa.Int64,checks=[pa.Check.in_range(0,81)],nullable=False),\n",
        "        \"Fare\":pa.Column(dtype=pa.Float64,checks=[pa.Check.ge(0.0)],nullable=False),\n",
        "        \"SibSp\":pa.Column(dtype=pa.Int64,checks=[pa.Check.in_range(0,8)],nullable=False),\n",
        "        \"Parch\":pa.Column(dtype=pa.Int64,checks=[pa.Check.in_range(0,6)],nullable=False),\n",
        "        \"Survived\":pa.Column(dtype=pa.Int64,checks=[pa.Check.isin([0,1])],nullable=False)\n",
        "    })"
      ],
      "metadata": {
        "id": "ZFE12f7bCjp0"
      },
      "execution_count": null,
      "outputs": []
    },
    {
      "cell_type": "code",
      "source": [
        "try:\n",
        "  schema.validate(df,lazy=True)\n",
        "  print('Valid Dataset')\n",
        "except pa.errors.SchemaError as er:\n",
        "  print('Đã xảy ra lỗi: ',er.failure_cases)"
      ],
      "metadata": {
        "colab": {
          "base_uri": "https://localhost:8080/",
          "height": 1000
        },
        "id": "Wmle13TWy1kV",
        "outputId": "941fc0cd-b3c7-4e60-cbbb-2e86fa321001"
      },
      "execution_count": null,
      "outputs": [
        {
          "output_type": "error",
          "ename": "SchemaErrors",
          "evalue": "{\n    \"DATA\": {\n        \"DATAFRAME_CHECK\": [\n            {\n                \"schema\": null,\n                \"column\": \"Name\",\n                \"check\": \"str_contains('^[a-zA-Z,\\\\s\\\\.\\\\(\\\\)]+$')\",\n                \"error\": \"Column 'Name' failed element-wise validator number 0: str_contains('^[a-zA-Z,\\\\s\\\\.\\\\(\\\\)]+$') failure cases: McGowan, Miss. Anna \\\"Annie\\\", O'Dwyer, Miss. Ellen \\\"Nellie\\\", Nicola-Yarred, Miss. Jamila, O'Driscoll, Miss. Bridget, Arnold-Franchi, Mrs. Josef (Josefine Franchi), Petroff, Mr. Pastcho (\\\"Pentcho\\\"), Nicola-Yarred, Master. Elias, Andersson, Mr. August Edvard (\\\"Wennerstrom\\\"), Ford, Miss. Robina Maggie \\\"Ruby\\\", Navratil, Mr. Michel (\\\"Louis M Hoffman\\\"), Gilnagh, Miss. Katherine \\\"Katie\\\", Watt, Mrs. James (Elizabeth \\\"Bessie\\\" Inglis Milne), Goldsmith, Master. Frank John William \\\"Frankie\\\", Kink-Heilmann, Miss. Luise Gretchen, O'Brien, Mrs. Thomas (Johanna \\\"Hannah\\\" Godfrey), Romaine, Mr. Charles Hallace (\\\"Mr C Rolmane\\\"), Andersen-Jensen, Miss. Carla Christine Nielsine, Madigan, Miss. Margaret \\\"Maggie\\\", Yrois, Miss. Henriette (\\\"Mrs Harbeck\\\"), Cohen, Mr. Gurshon \\\"Gus\\\", Carr, Miss. Helen \\\"Ellen\\\", Lovell, Mr. John Hall (\\\"Henry\\\"), Collyer, Miss. Marjorie \\\"Lottie\\\", Murphy, Miss. Katherine \\\"Kate\\\", Healy, Miss. Hanora \\\"Nora\\\", Parkes, Mr. Francis \\\"Frank\\\", Barber, Miss. Ellen \\\"Nellie\\\", Kelly, Miss. Anna Katherine \\\"Annie Kate\\\", Williams, Mr. Howard Hugh \\\"Harry\\\", Brown, Miss. Amelia \\\"Mildred\\\", Coutts, Master. William Loch \\\"William\\\", Williams-Lambert, Mr. Fletcher Fellows, Arnold-Franchi, Mr. Josef, Mockler, Miss. Helen Mary \\\"Ellie\\\", O'Brien, Mr. Thomas, Nakid, Miss. Maria (\\\"Mary\\\"), Widegren, Mr. Carl/Charles Peter, Phillips, Miss. Kate Florence (\\\"Mrs Kate Louise Phillips Marshall\\\"), Bjornstrom-Steffansson, Mr. Mauritz Hakan, Ford, Miss. Doolina Margaret \\\"Daisy\\\", Johannesen-Bratthammer, Mr. Bernt, O'Connor, Mr. Maurice, Frost, Mr. Anthony Wood \\\"Archie\\\", Coutts, Master. Eden Leslie \\\"Neville\\\", O'Sullivan, Miss. Bridget Mary, Bradley, Mr. George (\\\"George Arthur Brayton\\\"), Angle, Mrs. William A (Florence \\\"Mary\\\" Agnes Hughes), O'Brien, Mr. Timothy, Leeni, Mr. Fahim (\\\"Philip Zenni\\\"), Duff Gordon, Lady. (Lucille Christiana Sutherland) (\\\"Mrs Morgan\\\"), Flynn, Mr. John Irwin (\\\"Irving\\\"), Frolicher-Stehli, Mr. Maxmillian, Duff Gordon, Sir. Cosmo Edmund (\\\"Mr Morgan\\\"), Homer, Mr. Harry (\\\"Mr E Haven\\\"), Bowen, Mr. David John \\\"Dai\\\", O'Connell, Mr. Patrick D, Stahelin-Maeglin, Dr. Max, Simonius-Blumer, Col. Oberst Alfons, O'Leary, Miss. Hanora \\\"Norah\\\", Hegarty, Miss. Hanora \\\"Nora\\\", Mullens, Miss. Katherine \\\"Katie\\\", Morley, Mr. Henry Samuel (\\\"Mr Henry Marshall\\\"), Kelly, Mrs. Florence \\\"Fannie\\\", Moubarek, Master. Halim Gonios (\\\"William George\\\"), Mayne, Mlle. Berthe Antonine (\\\"Mrs de Villiers\\\"), Troutt, Miss. Edwina Celia \\\"Winnie\\\", Harper, Miss. Annie Jessie \\\"Nina\\\", Ryerson, Miss. Susan Parker \\\"Suzette\\\", Rothes, the Countess. of (Lucy Noel Martha Dyer-Edwards), Keane, Mr. Andrew \\\"Andy\\\", Sage, Miss. Dorothy Edith \\\"Dolly\\\", Najib, Miss. Adele Kiamie \\\"Jane\\\", Johnston, Miss. Catherine Helen \\\"Carrie\\\"\"\n            }\n        ]\n    },\n    \"SCHEMA\": {\n        \"SERIES_CONTAINS_NULLS\": [\n            {\n                \"schema\": null,\n                \"column\": \"Embarked\",\n                \"check\": \"not_nullable\",\n                \"error\": \"non-nullable series 'Embarked' contains null values:61     NaN829    NaNName: Embarked, dtype: object\"\n            },\n            {\n                \"schema\": null,\n                \"column\": \"Cabin\",\n                \"check\": \"not_nullable\",\n                \"error\": \"non-nullable series 'Cabin' contains null values:0      NaN2      NaN4      NaN5      NaN7      NaN      ... 884    NaN885    NaN886    NaN888    NaN890    NaNName: Cabin, Length: 687, dtype: object\"\n            },\n            {\n                \"schema\": null,\n                \"column\": \"Age\",\n                \"check\": \"not_nullable\",\n                \"error\": \"non-nullable series 'Age' contains null values:5     NaN17    NaN19    NaN26    NaN28    NaN       ..859   NaN863   NaN868   NaN878   NaN888   NaNName: Age, Length: 177, dtype: float64\"\n            }\n        ],\n        \"WRONG_DATATYPE\": [\n            {\n                \"schema\": null,\n                \"column\": \"Age\",\n                \"check\": \"dtype('int64')\",\n                \"error\": \"expected series 'Age' to have type int64, got float64\"\n            }\n        ]\n    }\n}",
          "traceback": [
            "\u001b[0;31m---------------------------------------------------------------------------\u001b[0m",
            "\u001b[0;31mSchemaErrors\u001b[0m                              Traceback (most recent call last)",
            "\u001b[0;32m/tmp/ipython-input-24-1536625879.py\u001b[0m in \u001b[0;36m<cell line: 0>\u001b[0;34m()\u001b[0m\n\u001b[1;32m      1\u001b[0m \u001b[0;32mtry\u001b[0m\u001b[0;34m:\u001b[0m\u001b[0;34m\u001b[0m\u001b[0;34m\u001b[0m\u001b[0m\n\u001b[0;32m----> 2\u001b[0;31m   \u001b[0mschema\u001b[0m\u001b[0;34m.\u001b[0m\u001b[0mvalidate\u001b[0m\u001b[0;34m(\u001b[0m\u001b[0mdf\u001b[0m\u001b[0;34m,\u001b[0m\u001b[0mlazy\u001b[0m\u001b[0;34m=\u001b[0m\u001b[0;32mTrue\u001b[0m\u001b[0;34m)\u001b[0m\u001b[0;34m\u001b[0m\u001b[0;34m\u001b[0m\u001b[0m\n\u001b[0m\u001b[1;32m      3\u001b[0m   \u001b[0mprint\u001b[0m\u001b[0;34m(\u001b[0m\u001b[0;34m'Valid Dataset'\u001b[0m\u001b[0;34m)\u001b[0m\u001b[0;34m\u001b[0m\u001b[0;34m\u001b[0m\u001b[0m\n\u001b[1;32m      4\u001b[0m \u001b[0;32mexcept\u001b[0m \u001b[0mpa\u001b[0m\u001b[0;34m.\u001b[0m\u001b[0merrors\u001b[0m\u001b[0;34m.\u001b[0m\u001b[0mSchemaError\u001b[0m \u001b[0;32mas\u001b[0m \u001b[0mer\u001b[0m\u001b[0;34m:\u001b[0m\u001b[0;34m\u001b[0m\u001b[0;34m\u001b[0m\u001b[0m\n\u001b[1;32m      5\u001b[0m   \u001b[0mprint\u001b[0m\u001b[0;34m(\u001b[0m\u001b[0;34m'Đã xảy ra lỗi: '\u001b[0m\u001b[0;34m,\u001b[0m\u001b[0mer\u001b[0m\u001b[0;34m.\u001b[0m\u001b[0mfailure_cases\u001b[0m\u001b[0;34m)\u001b[0m\u001b[0;34m\u001b[0m\u001b[0;34m\u001b[0m\u001b[0m\n",
            "\u001b[0;32m/usr/local/lib/python3.11/dist-packages/pandera/api/pandas/container.py\u001b[0m in \u001b[0;36mvalidate\u001b[0;34m(self, check_obj, head, tail, sample, random_state, lazy, inplace)\u001b[0m\n\u001b[1;32m    124\u001b[0m             \u001b[0;32mreturn\u001b[0m \u001b[0mcheck_obj\u001b[0m\u001b[0;34m.\u001b[0m\u001b[0mpandera\u001b[0m\u001b[0;34m.\u001b[0m\u001b[0madd_schema\u001b[0m\u001b[0;34m(\u001b[0m\u001b[0mself\u001b[0m\u001b[0;34m)\u001b[0m\u001b[0;34m\u001b[0m\u001b[0;34m\u001b[0m\u001b[0m\n\u001b[1;32m    125\u001b[0m \u001b[0;34m\u001b[0m\u001b[0m\n\u001b[0;32m--> 126\u001b[0;31m         return self._validate(\n\u001b[0m\u001b[1;32m    127\u001b[0m             \u001b[0mcheck_obj\u001b[0m\u001b[0;34m=\u001b[0m\u001b[0mcheck_obj\u001b[0m\u001b[0;34m,\u001b[0m\u001b[0;34m\u001b[0m\u001b[0;34m\u001b[0m\u001b[0m\n\u001b[1;32m    128\u001b[0m             \u001b[0mhead\u001b[0m\u001b[0;34m=\u001b[0m\u001b[0mhead\u001b[0m\u001b[0;34m,\u001b[0m\u001b[0;34m\u001b[0m\u001b[0;34m\u001b[0m\u001b[0m\n",
            "\u001b[0;32m/usr/local/lib/python3.11/dist-packages/pandera/api/pandas/container.py\u001b[0m in \u001b[0;36m_validate\u001b[0;34m(self, check_obj, head, tail, sample, random_state, lazy, inplace)\u001b[0m\n\u001b[1;32m    145\u001b[0m     ) -> pd.DataFrame:\n\u001b[1;32m    146\u001b[0m \u001b[0;34m\u001b[0m\u001b[0m\n\u001b[0;32m--> 147\u001b[0;31m         return self.get_backend(check_obj).validate(\n\u001b[0m\u001b[1;32m    148\u001b[0m             \u001b[0mcheck_obj\u001b[0m\u001b[0;34m,\u001b[0m\u001b[0;34m\u001b[0m\u001b[0;34m\u001b[0m\u001b[0m\n\u001b[1;32m    149\u001b[0m             \u001b[0mschema\u001b[0m\u001b[0;34m=\u001b[0m\u001b[0mself\u001b[0m\u001b[0;34m,\u001b[0m\u001b[0;34m\u001b[0m\u001b[0;34m\u001b[0m\u001b[0m\n",
            "\u001b[0;32m/usr/local/lib/python3.11/dist-packages/pandera/backends/pandas/container.py\u001b[0m in \u001b[0;36mvalidate\u001b[0;34m(self, check_obj, schema, head, tail, sample, random_state, lazy, inplace)\u001b[0m\n\u001b[1;32m    130\u001b[0m                 \u001b[0mcheck_obj\u001b[0m \u001b[0;34m=\u001b[0m \u001b[0mself\u001b[0m\u001b[0;34m.\u001b[0m\u001b[0mdrop_invalid_rows\u001b[0m\u001b[0;34m(\u001b[0m\u001b[0mcheck_obj\u001b[0m\u001b[0;34m,\u001b[0m \u001b[0merror_handler\u001b[0m\u001b[0;34m)\u001b[0m\u001b[0;34m\u001b[0m\u001b[0;34m\u001b[0m\u001b[0m\n\u001b[1;32m    131\u001b[0m             \u001b[0;32melse\u001b[0m\u001b[0;34m:\u001b[0m\u001b[0;34m\u001b[0m\u001b[0;34m\u001b[0m\u001b[0m\n\u001b[0;32m--> 132\u001b[0;31m                 raise SchemaErrors(\n\u001b[0m\u001b[1;32m    133\u001b[0m                     \u001b[0mschema\u001b[0m\u001b[0;34m=\u001b[0m\u001b[0mschema\u001b[0m\u001b[0;34m,\u001b[0m\u001b[0;34m\u001b[0m\u001b[0;34m\u001b[0m\u001b[0m\n\u001b[1;32m    134\u001b[0m                     \u001b[0mschema_errors\u001b[0m\u001b[0;34m=\u001b[0m\u001b[0merror_handler\u001b[0m\u001b[0;34m.\u001b[0m\u001b[0mschema_errors\u001b[0m\u001b[0;34m,\u001b[0m\u001b[0;34m\u001b[0m\u001b[0;34m\u001b[0m\u001b[0m\n",
            "\u001b[0;31mSchemaErrors\u001b[0m: {\n    \"DATA\": {\n        \"DATAFRAME_CHECK\": [\n            {\n                \"schema\": null,\n                \"column\": \"Name\",\n                \"check\": \"str_contains('^[a-zA-Z,\\\\s\\\\.\\\\(\\\\)]+$')\",\n                \"error\": \"Column 'Name' failed element-wise validator number 0: str_contains('^[a-zA-Z,\\\\s\\\\.\\\\(\\\\)]+$') failure cases: McGowan, Miss. Anna \\\"Annie\\\", O'Dwyer, Miss. Ellen \\\"Nellie\\\", Nicola-Yarred, Miss. Jamila, O'Driscoll, Miss. Bridget, Arnold-Franchi, Mrs. Josef (Josefine Franchi), Petroff, Mr. Pastcho (\\\"Pentcho\\\"), Nicola-Yarred, Master. Elias, Andersson, Mr. August Edvard (\\\"Wennerstrom\\\"), Ford, Miss. Robina Maggie \\\"Ruby\\\", Navratil, Mr. Michel (\\\"Louis M Hoffman\\\"), Gilnagh, Miss. Katherine \\\"Katie\\\", Watt, Mrs. James (Elizabeth \\\"Bessie\\\" Inglis Milne), Goldsmith, Master. Frank John William \\\"Frankie\\\", Kink-Heilmann, Miss. Luise Gretchen, O'Brien, Mrs. Thomas (Johanna \\\"Hannah\\\" Godfrey), Romaine, Mr. Charles Hallace (\\\"Mr C Rolmane\\\"), Andersen-Jensen, Miss. Carla Christine Nielsine, Madigan, Miss. Margaret \\\"Maggie\\\", Yrois, Miss. Henriette (\\\"Mrs Harbeck\\\"), Cohen, Mr. Gurshon \\\"Gus\\\", Carr, Miss. Helen \\\"Ellen\\\", Lovell, Mr. John Hall (\\\"Henry\\\"), Collyer, Miss. Marjorie \\\"Lottie\\\", Murphy, Miss. Katherine \\\"Kate\\\", Healy, Miss. Hanora \\\"Nora\\\", Parkes, Mr. Francis \\\"Frank\\\", Barber, Miss. Ellen \\\"Nellie\\\", Kelly, Miss. Anna Katherine \\\"Annie Kate\\\", Williams, Mr. Howard Hugh \\\"Harry\\\", Brown, Miss. Amelia \\\"Mildred\\\", Coutts, Master. William Loch \\\"William\\\", Williams-Lambert, Mr. Fletcher Fellows, Arnold-Franchi, Mr. Josef, Mockler, Miss. Helen Mary \\\"Ellie\\\", O'Brien, Mr. Thomas, Nakid, Miss. Maria (\\\"Mary\\\"), Widegren, Mr. Carl/Charles P...\n            }\n        ]\n    },\n    \"SCHEMA\": {\n        \"SERIES_CONTAINS_NULLS\": [\n            {\n                \"schema\": null,\n                \"column\": \"Embarked\",\n                \"check\": \"not_nullable\",\n                \"error\": \"non-nullable series 'Embarked' contains null values:61     NaN829    NaNName: Embarked, dtype: object\"\n            },\n            {\n                \"schema\": null,\n                \"column\": \"Cabin\",\n                \"check\": \"not_nullable\",\n                \"error\": \"non-nullable series 'Cabin' contains null values:0      NaN2      NaN4      NaN5      NaN7      NaN      ... 884    NaN885    NaN886    NaN888    NaN890    NaNName: Cabin, Length: 687, dtype: object\"\n            },\n            {\n                \"schema\": null,\n                \"column\": \"Age\",\n                \"check\": \"not_nullable\",\n                \"error\": \"non-nullable series 'Age' contains null values:5     NaN17    NaN19    NaN26    NaN28    NaN       ..859   NaN863   NaN868   NaN878   NaN888   NaNName: Age, Length: 177, dtype: float64\"\n            }\n        ],\n        \"WRONG_DATATYPE\": [\n            {\n                \"schema\": null,\n                \"column\": \"Age\",\n                \"check\": \"dtype('int64')\",\n                \"error\": \"expected series 'Age' to have type int64, got float64\"\n            }\n        ]\n    }\n}"
          ]
        }
      ]
    },
    {
      "cell_type": "markdown",
      "source": [
        "**Nhận xét:** Có giá trị NaN ở các cột Name,Embarked,Cabin,Age. Ngoài ra, Age còn chứa hai kiểu dữ liệu là Float và Int so với đánh giá chủ quan ban đầu là chỉ kiểu Int.\n",
        "\n",
        "**Kết luận:** Chỉ cần điều chỉnh cột Age vì theo bước EDA sẽ loại bỏ các feature Name, Embarked, Cabin do không quan trọng. Còn cột Age có sức ảnh hưởng tới Survived cần fill vào missing values và chuẩn hóa sang Float để cụ thể hóa khoảng tuổi chính xác=> dễ tính toán hơn."
      ],
      "metadata": {
        "id": "yGo8S4NK1ojt"
      }
    }
  ]
}
