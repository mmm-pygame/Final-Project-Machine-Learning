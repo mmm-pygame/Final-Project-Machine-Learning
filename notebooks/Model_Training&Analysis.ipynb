{
  "nbformat": 4,
  "nbformat_minor": 0,
  "metadata": {
    "colab": {
      "provenance": []
    },
    "kernelspec": {
      "name": "python3",
      "display_name": "Python 3"
    },
    "language_info": {
      "name": "python"
    }
  },
  "cells": [
    {
      "cell_type": "markdown",
      "source": [
        "# Train model"
      ],
      "metadata": {
        "id": "hfkTtUQHWAsY"
      }
    },
    {
      "cell_type": "code",
      "execution_count": 126,
      "metadata": {
        "id": "6RfxHrUwTSF3"
      },
      "outputs": [],
      "source": [
        "import pandas as pd\n",
        "import matplotlib.pyplot as plt\n",
        "import seaborn as sns\n",
        "import numpy as np\n",
        "from sklearn.model_selection import train_test_split\n",
        "from sklearn.linear_model import LinearRegression\n",
        "from sklearn.ensemble import RandomForestRegressor\n",
        "from sklearn.metrics import mean_squared_error, r2_score\n",
        "from sklearn.preprocessing import PowerTransformer\n",
        "from sklearn.preprocessing import StandardScaler"
      ]
    },
    {
      "cell_type": "code",
      "source": [
        "rawx_train=pd.read_csv('https://raw.githubusercontent.com/mmm-pygame/Final-Project-Machine-Learning/refs/heads/main/data/processed/processed_train.csv')\n",
        "rawy_train=pd.read_csv('https://raw.githubusercontent.com/mmm-pygame/Final-Project-Machine-Learning/refs/heads/main/data/splited/test.csv')"
      ],
      "metadata": {
        "id": "c1cBIRjwjQl5"
      },
      "execution_count": 127,
      "outputs": []
    },
    {
      "cell_type": "code",
      "source": [
        "testx=rawy_train.drop(columns=['Survived'])\n",
        "testy=rawy_train['Survived']"
      ],
      "metadata": {
        "id": "bR65y3IWyCLb"
      },
      "execution_count": 128,
      "outputs": []
    },
    {
      "cell_type": "code",
      "source": [
        "input_y=rawx_train['Survived'].copy()\n",
        "input_x=rawx_train.drop(columns=['Survived'])"
      ],
      "metadata": {
        "id": "Nzq4v9x-kXex"
      },
      "execution_count": 129,
      "outputs": []
    },
    {
      "cell_type": "code",
      "source": [
        "train_x,x_val,train_y,y_val=train_test_split(input_x,input_y,test_size=0.1,random_state=42)"
      ],
      "metadata": {
        "id": "cju66_W-j96g"
      },
      "execution_count": 130,
      "outputs": []
    },
    {
      "cell_type": "code",
      "source": [
        "LR=LinearRegression(n_jobs=-1)\n",
        "LR.fit(train_x,train_y)\n",
        "\n",
        "trainLRmse=mean_squared_error(train_y,LR.predict(train_x))\n",
        "valLRmse=mean_squared_error(y_val,LR.predict(x_val))\n"
      ],
      "metadata": {
        "id": "cX48FEBdlarf"
      },
      "execution_count": 131,
      "outputs": []
    },
    {
      "cell_type": "code",
      "source": [
        "print(f'Train MSE: {trainLRmse} | Val MSE: {valLRmse}')"
      ],
      "metadata": {
        "colab": {
          "base_uri": "https://localhost:8080/"
        },
        "id": "F0-CwEerpCUJ",
        "outputId": "615e85bd-b7b3-48e0-d4d5-ba2de0f6724e"
      },
      "execution_count": 132,
      "outputs": [
        {
          "output_type": "stream",
          "name": "stdout",
          "text": [
            "Train MSE: 0.14697899763292588 | Val MSE: 0.1329514699601371\n"
          ]
        }
      ]
    },
    {
      "cell_type": "code",
      "source": [
        "n_est_list = [1, 10,25, 50,75, 100]  # Số lượng cây thử nghiệm\n",
        "train_list = []\n",
        "val_list = []\n",
        "\n",
        "for n_est in n_est_list:\n",
        "    # Khởi tạo mô hình\n",
        "    model = RandomForestRegressor(\n",
        "        n_estimators=n_est,\n",
        "        max_depth=5,\n",
        "        random_state=42,\n",
        "        n_jobs=-1\n",
        "    )\n",
        "\n",
        "    # Huấn luyện\n",
        "    model.fit(train_x, train_y)\n",
        "\n",
        "    # Đánh giá\n",
        "    trainmse=mean_squared_error(train_y,RF.predict(train_x))\n",
        "    valmse=mean_squared_error(y_val,RF.predict(x_val))\n",
        "    train_list.append(trainmse)\n",
        "    val_list.append(valmse)\n",
        "\n",
        "    print(f\"n_estimators={n_est}, train MSE={trainmse:.2f}, val MSE={valmse:.2f}\")"
      ],
      "metadata": {
        "colab": {
          "base_uri": "https://localhost:8080/"
        },
        "id": "VGraYoSdtHfm",
        "outputId": "9a700ffe-000b-4e9a-90e8-67943aa91837"
      },
      "execution_count": 133,
      "outputs": [
        {
          "output_type": "stream",
          "name": "stdout",
          "text": [
            "n_estimators=1, train MSE=0.03, val MSE=0.12\n",
            "n_estimators=10, train MSE=0.03, val MSE=0.12\n",
            "n_estimators=25, train MSE=0.03, val MSE=0.12\n",
            "n_estimators=50, train MSE=0.03, val MSE=0.12\n",
            "n_estimators=75, train MSE=0.03, val MSE=0.12\n",
            "n_estimators=100, train MSE=0.03, val MSE=0.12\n"
          ]
        }
      ]
    },
    {
      "cell_type": "code",
      "source": [
        "plt.figure(figsize=(10, 6))\n",
        "plt.plot(train_list,\"r-\",linewidth=2, label='Train MSE')\n",
        "plt.plot(val_list,\"b-\",linewidth=3, label='Validation MSE')\n",
        "plt.xlabel('n_estimators')\n",
        "plt.ylabel('MSE')\n",
        "plt.title('Train MSE and Valid MSE over n_estimators')\n",
        "plt.grid(True)\n",
        "plt.show()"
      ],
      "metadata": {
        "colab": {
          "base_uri": "https://localhost:8080/",
          "height": 564
        },
        "id": "xpPOE10PumfE",
        "outputId": "1536805c-5bd8-4138-9ea4-163b86e214f3"
      },
      "execution_count": 134,
      "outputs": [
        {
          "output_type": "display_data",
          "data": {
            "text/plain": [
              "<Figure size 1000x600 with 1 Axes>"
            ],
            "image/png": "[encoded data removed]"
          },
          "metadata": {}
        }
      ]
    },
    {
      "cell_type": "markdown",
      "source": [
        "# Analysis"
      ],
      "metadata": {
        "id": "07cjNo_d49PS"
      }
    },
    {
      "cell_type": "code",
      "source": [
        "dataforfit=pd.read_csv('https://raw.githubusercontent.com/mmm-pygame/Final-Project-Machine-Learning/refs/heads/main/data/splited/train.csv').drop(columns=['Survived'])"
      ],
      "metadata": {
        "id": "b6tHMugvzLpT"
      },
      "execution_count": 135,
      "outputs": []
    },
    {
      "cell_type": "code",
      "source": [
        "testx.fillna({'Age':-1,'Name':\"\",\"Cabin\":\"\"},inplace=True)\n",
        "dataforfit.fillna({'Age':-1,'Name':\"\",\"Cabin\":\"\"},inplace=True)\n",
        "testx['FamilySize']=testx['SibSp']+testx['Parch']+1\n",
        "dataforfit['FamilySize']=testx['SibSp']+testx['Parch']+1\n",
        "testx['IsAlone']=testx['FamilySize'].apply(lambda x: 1 if x==1 else 0)\n",
        "dataforfit['IsAlone']=testx['FamilySize'].apply(lambda x: 1 if x==1 else 0)\n",
        "testx['Missing Age Values']=testx['Age'].apply(lambda x: 1 if x==-1 else 0)\n",
        "dataforfit['Missing Age Values']=testx['Age'].apply(lambda x: 1 if x==-1 else 0)\n",
        "testx['Age']= testx['Age'].apply(lambda x: float(x))\n",
        "dataforfit['Age']= testx['Age'].apply(lambda x: float(x))\n",
        "testx['IsMale']=testx['Sex'].apply(lambda x: 1 if x=='male' else 0)\n",
        "dataforfit['IsMale']=testx['Sex'].apply(lambda x: 1 if x=='male' else 0)\n",
        "testx=testx.drop(columns=['Sex','Name','PassengerId','Cabin','Ticket','Embarked'])\n",
        "dataforfit=dataforfit.drop(columns=['Sex','Name','PassengerId','Cabin','Ticket','Embarked'])\n",
        "trans=PowerTransformer(method='yeo-johnson')\n",
        "for x in testx.drop(columns=['Age','Pclass','IsMale','Missing Age Values']).columns: testx[x]=trans.fit(dataforfit[[x]]).transform(testx[[x]])\n",
        "scaler = StandardScaler().fit(dataforfit)\n",
        "data_scaled = scaler.transform(testx)\n",
        "\n",
        "for x in testx.drop(columns=['Pclass','IsMale','Missing Age Values']).columns: testx[x]=scaler.fit(dataforfit[[x]]).transform(testx[[x]])"
      ],
      "metadata": {
        "id": "U4AWo1_Sw4c4"
      },
      "execution_count": 136,
      "outputs": []
    },
    {
      "cell_type": "code",
      "source": [
        "finalpredictsLR = LR.predict(testx)\n",
        "finalpredictsRF = RF.predict(testx)\n",
        "finalLRmse= mean_squared_error(testy,finalpredictsLR)\n",
        "finalLRrmse= np.sqrt(finalLRmse)\n",
        "finalRFmse= mean_squared_error(testy,finalpredictsRF)\n",
        "finalRFrmse= np.sqrt(finalRFmse)\n",
        "print(f'RMSE cuối cùng của Linear Regression: {finalLRrmse}')\n",
        "print(f'RMSE cuối cùng của Random Forest: {finalRFrmse}')"
      ],
      "metadata": {
        "colab": {
          "base_uri": "https://localhost:8080/"
        },
        "id": "WtUJY7WY2XGK",
        "outputId": "cb9b7553-8e25-4020-a7d0-41b3212d5c12"
      },
      "execution_count": 137,
      "outputs": [
        {
          "output_type": "stream",
          "name": "stdout",
          "text": [
            "RMSE cuối cùng của Linear Regression: 1.7067865534603994\n",
            "RMSE cuối cùng của Random Forest: 0.425196618592426\n"
          ]
        }
      ]
    },
    {
      "cell_type": "code",
      "source": [
        "compdf=pd.DataFrame({\n",
        "    \"Dự đoán Linear Regression\":finalpredictsLR,\n",
        "    \"Dự đoán Random Forest\":finalpredictsRF,\n",
        "    \"Thực tế\":testy\n",
        "})\n",
        "compdf['Chênh lệch LR']=compdf['Dự đoán Linear Regression']-compdf['Thực tế']\n",
        "compdf['Chênh lệch RF']=compdf['Dự đoán Random Forest']-compdf['Thực tế']\n",
        "compdf=compdf.round(0)\n",
        "print(\"So sánh 20 giá trị đầu tiên: \")\n",
        "display(compdf.head(20))"
      ],
      "metadata": {
        "colab": {
          "base_uri": "https://localhost:8080/",
          "height": 694
        },
        "id": "M9Hv4pz63Rdy",
        "outputId": "6830e6f0-5cb7-434d-e6ac-092ee919f3a6"
      },
      "execution_count": 138,
      "outputs": [
        {
          "output_type": "stream",
          "name": "stdout",
          "text": [
            "So sánh 20 giá trị đầu tiên: \n"
          ]
        },
        {
          "output_type": "display_data",
          "data": {
            "text/plain": [
              "    Dự đoán Linear Regression  Dự đoán Random Forest  Thực tế  Chênh lệch LR  \\\n",
              "0                         2.0                    1.0        1            1.0   \n",
              "1                         1.0                    0.0        0            1.0   \n",
              "2                         1.0                    0.0        0            1.0   \n",
              "3                         4.0                    1.0        1            3.0   \n",
              "4                         3.0                    0.0        1            2.0   \n",
              "5                         2.0                    1.0        1            1.0   \n",
              "6                         1.0                    0.0        1            0.0   \n",
              "7                         2.0                    0.0        0            2.0   \n",
              "8                         2.0                    0.0        1            1.0   \n",
              "9                         3.0                    1.0        1            2.0   \n",
              "10                        3.0                    0.0        0            3.0   \n",
              "11                        1.0                    0.0        0            1.0   \n",
              "12                        3.0                    0.0        0            3.0   \n",
              "13                        1.0                    0.0        0            1.0   \n",
              "14                        1.0                    0.0        0            1.0   \n",
              "15                        4.0                    1.0        1            3.0   \n",
              "16                        3.0                    0.0        1            2.0   \n",
              "17                        1.0                    0.0        1            0.0   \n",
              "18                        1.0                    0.0        0            1.0   \n",
              "19                        1.0                    0.0        0            1.0   \n",
              "\n",
              "    Chênh lệch RF  \n",
              "0            -0.0  \n",
              "1             0.0  \n",
              "2             0.0  \n",
              "3            -0.0  \n",
              "4            -1.0  \n",
              "5            -0.0  \n",
              "6            -1.0  \n",
              "7             0.0  \n",
              "8            -1.0  \n",
              "9            -0.0  \n",
              "10            0.0  \n",
              "11            0.0  \n",
              "12            0.0  \n",
              "13            0.0  \n",
              "14            0.0  \n",
              "15           -0.0  \n",
              "16           -1.0  \n",
              "17           -1.0  \n",
              "18            0.0  \n",
              "19            0.0  "
            ],
            "text/html": [
              "\n",
              "  <div id=\"df-9be7b706-d79b-43c6-a66c-0a0d3abb4944\" class=\"colab-df-container\">\n",
              "    <div>\n",
              "<style scoped>\n",
              "    .dataframe tbody tr th:only-of-type {\n",
              "        vertical-align: middle;\n",
              "    }\n",
              "\n",
              "    .dataframe tbody tr th {\n",
              "        vertical-align: top;\n",
              "    }\n",
              "\n",
              "    .dataframe thead th {\n",
              "        text-align: right;\n",
              "    }\n",
              "</style>\n",
              "<table border=\"1\" class=\"dataframe\">\n",
              "  <thead>\n",
              "    <tr style=\"text-align: right;\">\n",
              "      <th></th>\n",
              "      <th>Dự đoán Linear Regression</th>\n",
              "      <th>Dự đoán Random Forest</th>\n",
              "      <th>Thực tế</th>\n",
              "      <th>Chênh lệch LR</th>\n",
              "      <th>Chênh lệch RF</th>\n",
              "    </tr>\n",
              "  </thead>\n",
              "  <tbody>\n",
              "    <tr>\n",
              "      <th>0</th>\n",
              "      <td>2.0</td>\n",
              "      <td>1.0</td>\n",
              "      <td>1</td>\n",
              "      <td>1.0</td>\n",
              "      <td>-0.0</td>\n",
              "    </tr>\n",
              "    <tr>\n",
              "      <th>1</th>\n",
              "      <td>1.0</td>\n",
              "      <td>0.0</td>\n",
              "      <td>0</td>\n",
              "      <td>1.0</td>\n",
              "      <td>0.0</td>\n",
              "    </tr>\n",
              "    <tr>\n",
              "      <th>2</th>\n",
              "      <td>1.0</td>\n",
              "      <td>0.0</td>\n",
              "      <td>0</td>\n",
              "      <td>1.0</td>\n",
              "      <td>0.0</td>\n",
              "    </tr>\n",
              "    <tr>\n",
              "      <th>3</th>\n",
              "      <td>4.0</td>\n",
              "      <td>1.0</td>\n",
              "      <td>1</td>\n",
              "      <td>3.0</td>\n",
              "      <td>-0.0</td>\n",
              "    </tr>\n",
              "    <tr>\n",
              "      <th>4</th>\n",
              "      <td>3.0</td>\n",
              "      <td>0.0</td>\n",
              "      <td>1</td>\n",
              "      <td>2.0</td>\n",
              "      <td>-1.0</td>\n",
              "    </tr>\n",
              "    <tr>\n",
              "      <th>5</th>\n",
              "      <td>2.0</td>\n",
              "      <td>1.0</td>\n",
              "      <td>1</td>\n",
              "      <td>1.0</td>\n",
              "      <td>-0.0</td>\n",
              "    </tr>\n",
              "    <tr>\n",
              "      <th>6</th>\n",
              "      <td>1.0</td>\n",
              "      <td>0.0</td>\n",
              "      <td>1</td>\n",
              "      <td>0.0</td>\n",
              "      <td>-1.0</td>\n",
              "    </tr>\n",
              "    <tr>\n",
              "      <th>7</th>\n",
              "      <td>2.0</td>\n",
              "      <td>0.0</td>\n",
              "      <td>0</td>\n",
              "      <td>2.0</td>\n",
              "      <td>0.0</td>\n",
              "    </tr>\n",
              "    <tr>\n",
              "      <th>8</th>\n",
              "      <td>2.0</td>\n",
              "      <td>0.0</td>\n",
              "      <td>1</td>\n",
              "      <td>1.0</td>\n",
              "      <td>-1.0</td>\n",
              "    </tr>\n",
              "    <tr>\n",
              "      <th>9</th>\n",
              "      <td>3.0</td>\n",
              "      <td>1.0</td>\n",
              "      <td>1</td>\n",
              "      <td>2.0</td>\n",
              "      <td>-0.0</td>\n",
              "    </tr>\n",
              "    <tr>\n",
              "      <th>10</th>\n",
              "      <td>3.0</td>\n",
              "      <td>0.0</td>\n",
              "      <td>0</td>\n",
              "      <td>3.0</td>\n",
              "      <td>0.0</td>\n",
              "    </tr>\n",
              "    <tr>\n",
              "      <th>11</th>\n",
              "      <td>1.0</td>\n",
              "      <td>0.0</td>\n",
              "      <td>0</td>\n",
              "      <td>1.0</td>\n",
              "      <td>0.0</td>\n",
              "    </tr>\n",
              "    <tr>\n",
              "      <th>12</th>\n",
              "      <td>3.0</td>\n",
              "      <td>0.0</td>\n",
              "      <td>0</td>\n",
              "      <td>3.0</td>\n",
              "      <td>0.0</td>\n",
              "    </tr>\n",
              "    <tr>\n",
              "      <th>13</th>\n",
              "      <td>1.0</td>\n",
              "      <td>0.0</td>\n",
              "      <td>0</td>\n",
              "      <td>1.0</td>\n",
              "      <td>0.0</td>\n",
              "    </tr>\n",
              "    <tr>\n",
              "      <th>14</th>\n",
              "      <td>1.0</td>\n",
              "      <td>0.0</td>\n",
              "      <td>0</td>\n",
              "      <td>1.0</td>\n",
              "      <td>0.0</td>\n",
              "    </tr>\n",
              "    <tr>\n",
              "      <th>15</th>\n",
              "      <td>4.0</td>\n",
              "      <td>1.0</td>\n",
              "      <td>1</td>\n",
              "      <td>3.0</td>\n",
              "      <td>-0.0</td>\n",
              "    </tr>\n",
              "    <tr>\n",
              "      <th>16</th>\n",
              "      <td>3.0</td>\n",
              "      <td>0.0</td>\n",
              "      <td>1</td>\n",
              "      <td>2.0</td>\n",
              "      <td>-1.0</td>\n",
              "    </tr>\n",
              "    <tr>\n",
              "      <th>17</th>\n",
              "      <td>1.0</td>\n",
              "      <td>0.0</td>\n",
              "      <td>1</td>\n",
              "      <td>0.0</td>\n",
              "      <td>-1.0</td>\n",
              "    </tr>\n",
              "    <tr>\n",
              "      <th>18</th>\n",
              "      <td>1.0</td>\n",
              "      <td>0.0</td>\n",
              "      <td>0</td>\n",
              "      <td>1.0</td>\n",
              "      <td>0.0</td>\n",
              "    </tr>\n",
              "    <tr>\n",
              "      <th>19</th>\n",
              "      <td>1.0</td>\n",
              "      <td>0.0</td>\n",
              "      <td>0</td>\n",
              "      <td>1.0</td>\n",
              "      <td>0.0</td>\n",
              "    </tr>\n",
              "  </tbody>\n",
              "</table>\n",
              "</div>\n",
              "    <div class=\"colab-df-buttons\">\n",
              "\n",
              "  <div class=\"colab-df-container\">\n",
              "    <button class=\"colab-df-convert\" onclick=\"convertToInteractive('df-9be7b706-d79b-43c6-a66c-0a0d3abb4944')\"\n",
              "            title=\"Convert this dataframe to an interactive table.\"\n",
              "            style=\"display:none;\">\n",
              "\n",
              "  <svg xmlns=\"http://www.w3.org/2000/svg\" height=\"24px\" viewBox=\"0 -960 960 960\">\n",
              "    <path d=\"M120-120v-720h720v720H120Zm60-500h600v-160H180v160Zm220 220h160v-160H400v160Zm0 220h160v-160H400v160ZM180-400h160v-160H180v160Zm440 0h160v-160H620v160ZM180-180h160v-160H180v160Zm440 0h160v-160H620v160Z\"/>\n",
              "  </svg>\n",
              "    </button>\n",
              "\n",
              "  <style>\n",
              "    .colab-df-container {\n",
              "      display:flex;\n",
              "      gap: 12px;\n",
              "    }\n",
              "\n",
              "    .colab-df-convert {\n",
              "      background-color: #E8F0FE;\n",
              "      border: none;\n",
              "      border-radius: 50%;\n",
              "      cursor: pointer;\n",
              "      display: none;\n",
              "      fill: #1967D2;\n",
              "      height: 32px;\n",
              "      padding: 0 0 0 0;\n",
              "      width: 32px;\n",
              "    }\n",
              "\n",
              "    .colab-df-convert:hover {\n",
              "      background-color: #E2EBFA;\n",
              "      box-shadow: 0px 1px 2px rgba(60, 64, 67, 0.3), 0px 1px 3px 1px rgba(60, 64, 67, 0.15);\n",
              "      fill: #174EA6;\n",
              "    }\n",
              "\n",
              "    .colab-df-buttons div {\n",
              "      margin-bottom: 4px;\n",
              "    }\n",
              "\n",
              "    [theme=dark] .colab-df-convert {\n",
              "      background-color: #3B4455;\n",
              "      fill: #D2E3FC;\n",
              "    }\n",
              "\n",
              "    [theme=dark] .colab-df-convert:hover {\n",
              "      background-color: #434B5C;\n",
              "      box-shadow: 0px 1px 3px 1px rgba(0, 0, 0, 0.15);\n",
              "      filter: drop-shadow(0px 1px 2px rgba(0, 0, 0, 0.3));\n",
              "      fill: #FFFFFF;\n",
              "    }\n",
              "  </style>\n",
              "\n",
              "    <script>\n",
              "      const buttonEl =\n",
              "        document.querySelector('#df-9be7b706-d79b-43c6-a66c-0a0d3abb4944 button.colab-df-convert');\n",
              "      buttonEl.style.display =\n",
              "        google.colab.kernel.accessAllowed ? 'block' : 'none';\n",
              "\n",
              "      async function convertToInteractive(key) {\n",
              "        const element = document.querySelector('#df-9be7b706-d79b-43c6-a66c-0a0d3abb4944');\n",
              "        const dataTable =\n",
              "          await google.colab.kernel.invokeFunction('convertToInteractive',\n",
              "                                                    [key], {});\n",
              "        if (!dataTable) return;\n",
              "\n",
              "        const docLinkHtml = 'Like what you see? Visit the ' +\n",
              "          '<a target=\"_blank\" href=https://colab.research.google.com/notebooks/data_table.ipynb>data table notebook</a>'\n",
              "          + ' to learn more about interactive tables.';\n",
              "        element.innerHTML = '';\n",
              "        dataTable['output_type'] = 'display_data';\n",
              "        await google.colab.output.renderOutput(dataTable, element);\n",
              "        const docLink = document.createElement('div');\n",
              "        docLink.innerHTML = docLinkHtml;\n",
              "        element.appendChild(docLink);\n",
              "      }\n",
              "    </script>\n",
              "  </div>\n",
              "\n",
              "\n",
              "    <div id=\"df-5c003d61-ec9d-4dc6-84ca-cc15c668df14\">\n",
              "      <button class=\"colab-df-quickchart\" onclick=\"quickchart('df-5c003d61-ec9d-4dc6-84ca-cc15c668df14')\"\n",
              "                title=\"Suggest charts\"\n",
              "                style=\"display:none;\">\n",
              "\n",
              "<svg xmlns=\"http://www.w3.org/2000/svg\" height=\"24px\"viewBox=\"0 0 24 24\"\n",
              "     width=\"24px\">\n",
              "    <g>\n",
              "        <path d=\"M19 3H5c-1.1 0-2 .9-2 2v14c0 1.1.9 2 2 2h14c1.1 0 2-.9 2-2V5c0-1.1-.9-2-2-2zM9 17H7v-7h2v7zm4 0h-2V7h2v10zm4 0h-2v-4h2v4z\"/>\n",
              "    </g>\n",
              "</svg>\n",
              "      </button>\n",
              "\n",
              "<style>\n",
              "  .colab-df-quickchart {\n",
              "      --bg-color: #E8F0FE;\n",
              "      --fill-color: #1967D2;\n",
              "      --hover-bg-color: #E2EBFA;\n",
              "      --hover-fill-color: #174EA6;\n",
              "      --disabled-fill-color: #AAA;\n",
              "      --disabled-bg-color: #DDD;\n",
              "  }\n",
              "\n",
              "  [theme=dark] .colab-df-quickchart {\n",
              "      --bg-color: #3B4455;\n",
              "      --fill-color: #D2E3FC;\n",
              "      --hover-bg-color: #434B5C;\n",
              "      --hover-fill-color: #FFFFFF;\n",
              "      --disabled-bg-color: #3B4455;\n",
              "      --disabled-fill-color: #666;\n",
              "  }\n",
              "\n",
              "  .colab-df-quickchart {\n",
              "    background-color: var(--bg-color);\n",
              "    border: none;\n",
              "    border-radius: 50%;\n",
              "    cursor: pointer;\n",
              "    display: none;\n",
              "    fill: var(--fill-color);\n",
              "    height: 32px;\n",
              "    padding: 0;\n",
              "    width: 32px;\n",
              "  }\n",
              "\n",
              "  .colab-df-quickchart:hover {\n",
              "    background-color: var(--hover-bg-color);\n",
              "    box-shadow: 0 1px 2px rgba(60, 64, 67, 0.3), 0 1px 3px 1px rgba(60, 64, 67, 0.15);\n",
              "    fill: var(--button-hover-fill-color);\n",
              "  }\n",
              "\n",
              "  .colab-df-quickchart-complete:disabled,\n",
              "  .colab-df-quickchart-complete:disabled:hover {\n",
              "    background-color: var(--disabled-bg-color);\n",
              "    fill: var(--disabled-fill-color);\n",
              "    box-shadow: none;\n",
              "  }\n",
              "\n",
              "  .colab-df-spinner {\n",
              "    border: 2px solid var(--fill-color);\n",
              "    border-color: transparent;\n",
              "    border-bottom-color: var(--fill-color);\n",
              "    animation:\n",
              "      spin 1s steps(1) infinite;\n",
              "  }\n",
              "\n",
              "  @keyframes spin {\n",
              "    0% {\n",
              "      border-color: transparent;\n",
              "      border-bottom-color: var(--fill-color);\n",
              "      border-left-color: var(--fill-color);\n",
              "    }\n",
              "    20% {\n",
              "      border-color: transparent;\n",
              "      border-left-color: var(--fill-color);\n",
              "      border-top-color: var(--fill-color);\n",
              "    }\n",
              "    30% {\n",
              "      border-color: transparent;\n",
              "      border-left-color: var(--fill-color);\n",
              "      border-top-color: var(--fill-color);\n",
              "      border-right-color: var(--fill-color);\n",
              "    }\n",
              "    40% {\n",
              "      border-color: transparent;\n",
              "      border-right-color: var(--fill-color);\n",
              "      border-top-color: var(--fill-color);\n",
              "    }\n",
              "    60% {\n",
              "      border-color: transparent;\n",
              "      border-right-color: var(--fill-color);\n",
              "    }\n",
              "    80% {\n",
              "      border-color: transparent;\n",
              "      border-right-color: var(--fill-color);\n",
              "      border-bottom-color: var(--fill-color);\n",
              "    }\n",
              "    90% {\n",
              "      border-color: transparent;\n",
              "      border-bottom-color: var(--fill-color);\n",
              "    }\n",
              "  }\n",
              "</style>\n",
              "\n",
              "      <script>\n",
              "        async function quickchart(key) {\n",
              "          const quickchartButtonEl =\n",
              "            document.querySelector('#' + key + ' button');\n",
              "          quickchartButtonEl.disabled = true;  // To prevent multiple clicks.\n",
              "          quickchartButtonEl.classList.add('colab-df-spinner');\n",
              "          try {\n",
              "            const charts = await google.colab.kernel.invokeFunction(\n",
              "                'suggestCharts', [key], {});\n",
              "          } catch (error) {\n",
              "            console.error('Error during call to suggestCharts:', error);\n",
              "          }\n",
              "          quickchartButtonEl.classList.remove('colab-df-spinner');\n",
              "          quickchartButtonEl.classList.add('colab-df-quickchart-complete');\n",
              "        }\n",
              "        (() => {\n",
              "          let quickchartButtonEl =\n",
              "            document.querySelector('#df-5c003d61-ec9d-4dc6-84ca-cc15c668df14 button');\n",
              "          quickchartButtonEl.style.display =\n",
              "            google.colab.kernel.accessAllowed ? 'block' : 'none';\n",
              "        })();\n",
              "      </script>\n",
              "    </div>\n",
              "\n",
              "    </div>\n",
              "  </div>\n"
            ],
            "application/vnd.google.colaboratory.intrinsic+json": {
              "type": "dataframe",
              "summary": "{\n  \"name\": \"display(compdf\",\n  \"rows\": 20,\n  \"fields\": [\n    {\n      \"column\": \"D\\u1ef1 \\u0111o\\u00e1n Linear Regression\",\n      \"properties\": {\n        \"dtype\": \"number\",\n        \"std\": 1.0760551736979407,\n        \"min\": 1.0,\n        \"max\": 4.0,\n        \"num_unique_values\": 4,\n        \"samples\": [\n          1.0,\n          3.0,\n          2.0\n        ],\n        \"semantic_type\": \"\",\n        \"description\": \"\"\n      }\n    },\n    {\n      \"column\": \"D\\u1ef1 \\u0111o\\u00e1n Random Forest\",\n      \"properties\": {\n        \"dtype\": \"number\",\n        \"std\": 0.4442616583193193,\n        \"min\": 0.0,\n        \"max\": 1.0,\n        \"num_unique_values\": 2,\n        \"samples\": [\n          0.0,\n          1.0\n        ],\n        \"semantic_type\": \"\",\n        \"description\": \"\"\n      }\n    },\n    {\n      \"column\": \"Th\\u1ef1c t\\u1ebf\",\n      \"properties\": {\n        \"dtype\": \"number\",\n        \"std\": 0,\n        \"min\": 0,\n        \"max\": 1,\n        \"num_unique_values\": 2,\n        \"samples\": [\n          0,\n          1\n        ],\n        \"semantic_type\": \"\",\n        \"description\": \"\"\n      }\n    },\n    {\n      \"column\": \"Ch\\u00eanh l\\u1ec7ch LR\",\n      \"properties\": {\n        \"dtype\": \"number\",\n        \"std\": 0.9459053029269173,\n        \"min\": 0.0,\n        \"max\": 3.0,\n        \"num_unique_values\": 4,\n        \"samples\": [\n          3.0,\n          0.0\n        ],\n        \"semantic_type\": \"\",\n        \"description\": \"\"\n      }\n    },\n    {\n      \"column\": \"Ch\\u00eanh l\\u1ec7ch RF\",\n      \"properties\": {\n        \"dtype\": \"number\",\n        \"std\": 0.4442616583193193,\n        \"min\": -1.0,\n        \"max\": 0.0,\n        \"num_unique_values\": 2,\n        \"samples\": [\n          -1.0,\n          -0.0\n        ],\n        \"semantic_type\": \"\",\n        \"description\": \"\"\n      }\n    }\n  ]\n}"
            }
          },
          "metadata": {}
        }
      ]
    },
    {
      "cell_type": "markdown",
      "source": [
        "**Mô hình Linear Regression không học được Survived là biến Int có tính chất boolean. Trong khi đó Random Forest dự đoán khá chuẩn chỉ cần đổi kết quả thành Int là được. Nên dùng Random Forest.**"
      ],
      "metadata": {
        "id": "8wh91mLa4cUK"
      }
    }
  ]
}